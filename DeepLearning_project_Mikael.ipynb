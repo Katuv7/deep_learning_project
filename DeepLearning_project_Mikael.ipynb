{
  "nbformat": 4,
  "nbformat_minor": 0,
  "metadata": {
    "colab": {
      "provenance": [],
      "gpuType": "T4",
      "toc_visible": true
    },
    "kernelspec": {
      "name": "python3",
      "display_name": "Python 3"
    },
    "language_info": {
      "name": "python"
    },
    "accelerator": "GPU"
  },
  "cells": [
    {
      "cell_type": "markdown",
      "source": [
        "# Project of the MNIST Data Using GAN Methods"
      ],
      "metadata": {
        "id": "q4TmJ2lEoq8c"
      }
    },
    {
      "cell_type": "markdown",
      "source": [
        "## Load the useful packages"
      ],
      "metadata": {
        "id": "ILJikJ4KobgF"
      }
    },
    {
      "cell_type": "code",
      "execution_count": null,
      "metadata": {
        "id": "eW08Am7Kj4Rn"
      },
      "outputs": [],
      "source": [
        "import scipy\n",
        "import numpy as np # manipulate N-dimensional arrays\n",
        "import pandas as pd # data frame\n",
        "import matplotlib.pyplot as plt # data plotting\n",
        "import matplotlib.gridspec as gridspec\n",
        "import seaborn # advanced data plotting\n",
        "from sklearn import preprocessing # basic ML models\n",
        "# import scipy # scientific computing library\n",
        "from tqdm import tqdm #progress bar\n",
        "#import torch\n",
        "import time\n",
        "import os\n",
        "import pickle\n",
        "import tensorflow as tf\n",
        "#from tensorflow.keras import layers, models"
      ]
    },
    {
      "cell_type": "code",
      "source": [
        "device_list=tf.test.gpu_device_name()"
      ],
      "metadata": {
        "id": "fOhqKZe2MqCC"
      },
      "execution_count": null,
      "outputs": []
    },
    {
      "cell_type": "code",
      "source": [
        "device_list"
      ],
      "metadata": {
        "colab": {
          "base_uri": "https://localhost:8080/",
          "height": 36
        },
        "id": "M1TwhgeWNo4q",
        "outputId": "fc4e8b0a-1b9a-4d96-a9ad-5e2d41f87291"
      },
      "execution_count": null,
      "outputs": [
        {
          "output_type": "execute_result",
          "data": {
            "text/plain": [
              "'/device:GPU:0'"
            ],
            "application/vnd.google.colaboratory.intrinsic+json": {
              "type": "string"
            }
          },
          "metadata": {},
          "execution_count": 4
        }
      ]
    },
    {
      "cell_type": "code",
      "source": [
        "if device_list!='/device:GPU:0':\n",
        "  raise SystemError('GPU device not found')\n",
        "print('Found GPU at:()'.format(device_list))"
      ],
      "metadata": {
        "colab": {
          "base_uri": "https://localhost:8080/"
        },
        "id": "H4j0m8C4M0E1",
        "outputId": "1f881e55-5db4-4701-e232-8ff2bdc3c791"
      },
      "execution_count": null,
      "outputs": [
        {
          "output_type": "stream",
          "name": "stdout",
          "text": [
            "Found GPU at:()\n"
          ]
        }
      ]
    },
    {
      "cell_type": "code",
      "source": [
        "tf.test.is_gpu_available()"
      ],
      "metadata": {
        "colab": {
          "base_uri": "https://localhost:8080/"
        },
        "id": "yDc4pXwyOl-G",
        "outputId": "2cd2bfc1-5c6d-449a-ec77-d73e537f2eb0"
      },
      "execution_count": null,
      "outputs": [
        {
          "output_type": "stream",
          "name": "stderr",
          "text": [
            "WARNING:tensorflow:From <ipython-input-6-17bb7203622b>:1: is_gpu_available (from tensorflow.python.framework.test_util) is deprecated and will be removed in a future version.\n",
            "Instructions for updating:\n",
            "Use `tf.config.list_physical_devices('GPU')` instead.\n"
          ]
        },
        {
          "output_type": "execute_result",
          "data": {
            "text/plain": [
              "True"
            ]
          },
          "metadata": {},
          "execution_count": 6
        }
      ]
    },
    {
      "cell_type": "markdown",
      "source": [
        "## Loading the data"
      ],
      "metadata": {
        "id": "FIndvCpx9uCD"
      }
    },
    {
      "cell_type": "code",
      "source": [
        "from keras.datasets import mnist\n",
        "from keras import backend as K"
      ],
      "metadata": {
        "id": "KY_9Pntt91cs"
      },
      "execution_count": null,
      "outputs": []
    },
    {
      "cell_type": "code",
      "source": [
        "K.set_image_data_format('channels_last')\n",
        "(x_train_original, y_train_original), (x_test, y_test) = mnist.load_data(path=\"mnist.npz\")\n",
        "print('x_train shape:', x_train_original.shape)\n",
        "print(x_train_original.shape[0], 'train samples')\n",
        "print(y_train_original.shape, 'train samples')\n",
        "print(x_test.shape[0], 'test samples')"
      ],
      "metadata": {
        "colab": {
          "base_uri": "https://localhost:8080/"
        },
        "id": "0txV7vmPRHVX",
        "outputId": "8dd1e3ce-ec0d-4932-9d43-56d411091864"
      },
      "execution_count": null,
      "outputs": [
        {
          "output_type": "stream",
          "name": "stdout",
          "text": [
            "x_train shape: (60000, 28, 28)\n",
            "60000 train samples\n",
            "(60000,) train samples\n",
            "10000 test samples\n"
          ]
        }
      ]
    },
    {
      "cell_type": "code",
      "source": [
        "# Check number of classes\n",
        "num_classes = y_train_original.max() +1\n",
        "num_classes"
      ],
      "metadata": {
        "colab": {
          "base_uri": "https://localhost:8080/"
        },
        "id": "BlYTCEz-T9J-",
        "outputId": "984cd73f-ad86-4642-a6ce-1ad7c9c963bf"
      },
      "execution_count": null,
      "outputs": [
        {
          "output_type": "execute_result",
          "data": {
            "text/plain": [
              "10"
            ]
          },
          "metadata": {},
          "execution_count": 14
        }
      ]
    },
    {
      "cell_type": "code",
      "source": [
        "plt.imshow(x_test[1])"
      ],
      "metadata": {
        "colab": {
          "base_uri": "https://localhost:8080/",
          "height": 447
        },
        "id": "-Fjs8L19UAGc",
        "outputId": "365b2d46-0454-4b89-b650-6ae77a378b54"
      },
      "execution_count": null,
      "outputs": [
        {
          "output_type": "execute_result",
          "data": {
            "text/plain": [
              "<matplotlib.image.AxesImage at 0x7f7f14531210>"
            ]
          },
          "metadata": {},
          "execution_count": 19
        },
        {
          "output_type": "display_data",
          "data": {
            "text/plain": [
              "<Figure size 640x480 with 1 Axes>"
            ],
            "image/png": "[encoded data removed]"
          },
          "metadata": {}
        }
      ]
    },
    {
      "cell_type": "code",
      "source": [
        "# Check the class labels\n",
        "y_train_original"
      ],
      "metadata": {
        "colab": {
          "base_uri": "https://localhost:8080/"
        },
        "id": "EsErYRtvUiSL",
        "outputId": "14107f15-c1f8-4192-a10a-8b86b95bbd59"
      },
      "execution_count": null,
      "outputs": [
        {
          "output_type": "execute_result",
          "data": {
            "text/plain": [
              "array([5, 0, 4, ..., 5, 6, 8], dtype=uint8)"
            ]
          },
          "metadata": {},
          "execution_count": 22
        }
      ]
    },
    {
      "cell_type": "code",
      "source": [
        "LABELS = {\n",
        "    0 : \"Zero\",\n",
        "    1 : \"One\",\n",
        "    2 : \"Two\",\n",
        "    3 : \"Three\",\n",
        "    4 : \"Four\",\n",
        "    5 : \"Five\",\n",
        "    6 : \"Six\",\n",
        "    7 : \"Seven\",\n",
        "    8 : \"Eight\",\n",
        "    9 : \"Nine\"\n",
        "}"
      ],
      "metadata": {
        "id": "ADB6I7XIU1hT"
      },
      "execution_count": null,
      "outputs": []
    },
    {
      "cell_type": "code",
      "source": [],
      "metadata": {
        "id": "Q2LKCIM1VE6S"
      },
      "execution_count": null,
      "outputs": []
    },
    {
      "cell_type": "markdown",
      "source": [
        "## Preprocessing"
      ],
      "metadata": {
        "id": "DdpITYHL929O"
      }
    },
    {
      "cell_type": "markdown",
      "source": [
        "### Spliting the data"
      ],
      "metadata": {
        "id": "9Uhme5jeVOdW"
      }
    },
    {
      "cell_type": "code",
      "source": [
        "from sklearn.model_selection import train_test_split"
      ],
      "metadata": {
        "id": "a6PktbU2-AEo"
      },
      "execution_count": null,
      "outputs": []
    },
    {
      "cell_type": "code",
      "source": [
        "x_train, x_val, y_train, y_val = train_test_split(x_train_original, y_train_original, test_size=10000, random_state=42, shuffle= True, stratify=y_train_original)"
      ],
      "metadata": {
        "id": "_zxcEMupVcXr"
      },
      "execution_count": null,
      "outputs": []
    },
    {
      "cell_type": "code",
      "source": [
        "x_train.shape"
      ],
      "metadata": {
        "colab": {
          "base_uri": "https://localhost:8080/"
        },
        "id": "BnfXMMOiVqSY",
        "outputId": "76a0bfe3-5566-439a-b1f7-4eb11988becb"
      },
      "execution_count": null,
      "outputs": [
        {
          "output_type": "execute_result",
          "data": {
            "text/plain": [
              "(50000, 28, 28)"
            ]
          },
          "metadata": {},
          "execution_count": 26
        }
      ]
    },
    {
      "cell_type": "code",
      "source": [
        "x_val.shape"
      ],
      "metadata": {
        "colab": {
          "base_uri": "https://localhost:8080/"
        },
        "id": "ti6_--gsVvpL",
        "outputId": "bf007f23-bc03-45e4-f479-81152bf52b53"
      },
      "execution_count": null,
      "outputs": [
        {
          "output_type": "execute_result",
          "data": {
            "text/plain": [
              "(10000, 28, 28)"
            ]
          },
          "metadata": {},
          "execution_count": 27
        }
      ]
    },
    {
      "cell_type": "code",
      "source": [
        "x_test.shape"
      ],
      "metadata": {
        "colab": {
          "base_uri": "https://localhost:8080/"
        },
        "id": "Zi3MqWR0V4ig",
        "outputId": "464a4e81-d1de-441c-9d9c-ccff1968e027"
      },
      "execution_count": null,
      "outputs": [
        {
          "output_type": "execute_result",
          "data": {
            "text/plain": [
              "(10000, 28, 28)"
            ]
          },
          "metadata": {},
          "execution_count": 28
        }
      ]
    },
    {
      "cell_type": "code",
      "source": [
        "# Check number of samples inside each class\n",
        "from collections import Counter"
      ],
      "metadata": {
        "id": "r6ta7FEMWBDB"
      },
      "execution_count": null,
      "outputs": []
    },
    {
      "cell_type": "code",
      "source": [
        "Counter(list(y_train.reshape(-1)))"
      ],
      "metadata": {
        "colab": {
          "base_uri": "https://localhost:8080/"
        },
        "id": "ppvaPzjAWC3l",
        "outputId": "bed74993-c9c3-4f22-b33e-8a1332f5aef2"
      },
      "execution_count": null,
      "outputs": [
        {
          "output_type": "execute_result",
          "data": {
            "text/plain": [
              "Counter({7: 5221,\n",
              "         1: 5618,\n",
              "         9: 4957,\n",
              "         3: 5109,\n",
              "         6: 4932,\n",
              "         2: 4965,\n",
              "         0: 4936,\n",
              "         5: 4518,\n",
              "         4: 4868,\n",
              "         8: 4876})"
            ]
          },
          "metadata": {},
          "execution_count": 30
        }
      ]
    },
    {
      "cell_type": "code",
      "source": [
        "Counter(list(y_val.reshape(-1)))"
      ],
      "metadata": {
        "colab": {
          "base_uri": "https://localhost:8080/"
        },
        "id": "alR1k90iWMMm",
        "outputId": "7dcf3ced-f756-4f5e-c4ac-66914a90d1c8"
      },
      "execution_count": null,
      "outputs": [
        {
          "output_type": "execute_result",
          "data": {
            "text/plain": [
              "Counter({7: 1044,\n",
              "         8: 975,\n",
              "         4: 974,\n",
              "         2: 993,\n",
              "         9: 992,\n",
              "         6: 986,\n",
              "         5: 903,\n",
              "         1: 1124,\n",
              "         3: 1022,\n",
              "         0: 987})"
            ]
          },
          "metadata": {},
          "execution_count": 31
        }
      ]
    },
    {
      "cell_type": "code",
      "source": [
        "Counter(list(y_test.reshape(-1)))"
      ],
      "metadata": {
        "colab": {
          "base_uri": "https://localhost:8080/"
        },
        "id": "TdD_L9nRWUsr",
        "outputId": "7ddb68ad-2ed3-4273-93bf-dc1dbb5f034f"
      },
      "execution_count": null,
      "outputs": [
        {
          "output_type": "execute_result",
          "data": {
            "text/plain": [
              "Counter({7: 1028,\n",
              "         2: 1032,\n",
              "         1: 1135,\n",
              "         0: 980,\n",
              "         4: 982,\n",
              "         9: 1009,\n",
              "         5: 892,\n",
              "         6: 958,\n",
              "         3: 1010,\n",
              "         8: 974})"
            ]
          },
          "metadata": {},
          "execution_count": 32
        }
      ]
    },
    {
      "cell_type": "markdown",
      "source": [
        "### Convert class vectors into binary class matrices"
      ],
      "metadata": {
        "id": "5mb_1oW7WtIF"
      }
    },
    {
      "cell_type": "code",
      "source": [
        "from tensorflow.keras.utils import to_categorical"
      ],
      "metadata": {
        "id": "IHXn8RjoW82G"
      },
      "execution_count": null,
      "outputs": []
    },
    {
      "cell_type": "code",
      "source": [
        "y_train_original = to_categorical(y_train_original, num_classes)\n",
        "y_test = to_categorical(y_test, num_classes)\n",
        "y_train = to_categorical(y_train, num_classes)\n",
        "y_val = to_categorical(y_val, num_classes)"
      ],
      "metadata": {
        "id": "ZwwkjRbbXDfn"
      },
      "execution_count": null,
      "outputs": []
    },
    {
      "cell_type": "code",
      "source": [
        "# New shape of the labels\n",
        "y_train_original.shape"
      ],
      "metadata": {
        "colab": {
          "base_uri": "https://localhost:8080/"
        },
        "id": "jpGCBQk7XYUu",
        "outputId": "7e64b0d4-d43a-46b0-8f2e-d3331b0992a6"
      },
      "execution_count": null,
      "outputs": [
        {
          "output_type": "execute_result",
          "data": {
            "text/plain": [
              "(60000, 10)"
            ]
          },
          "metadata": {},
          "execution_count": 36
        }
      ]
    },
    {
      "cell_type": "markdown",
      "source": [
        "### Normalize the data"
      ],
      "metadata": {
        "id": "c6dMwjB9XtVM"
      }
    },
    {
      "cell_type": "code",
      "source": [
        "x_train_original = x_train_original.astype('float32')\n",
        "x_test = x_test.astype('float32')\n",
        "x_train = x_train.astype('float32')\n",
        "x_val = x_val.astype('float32')\n",
        "\n",
        "x_train_original /= 255\n",
        "x_test /= 255\n",
        "x_train /= 255\n",
        "x_val /= 255"
      ],
      "metadata": {
        "id": "rVo6JMHtXc_V"
      },
      "execution_count": null,
      "outputs": []
    },
    {
      "cell_type": "code",
      "source": [
        "# Check new minimum and maximum values\n",
        "x_train.max(), x_train.min()"
      ],
      "metadata": {
        "colab": {
          "base_uri": "https://localhost:8080/"
        },
        "id": "dPN1a3FIY_W3",
        "outputId": "c313a9df-2bf7-409e-be4a-00cdc39eaa94"
      },
      "execution_count": null,
      "outputs": [
        {
          "output_type": "execute_result",
          "data": {
            "text/plain": [
              "(1.0, 0.0)"
            ]
          },
          "metadata": {},
          "execution_count": 42
        }
      ]
    },
    {
      "cell_type": "markdown",
      "source": [
        "# GAN"
      ],
      "metadata": {
        "id": "9-Ac1gpI-Ovg"
      }
    },
    {
      "cell_type": "markdown",
      "source": [
        "## Configuration of two networks"
      ],
      "metadata": {
        "id": "9k42Bb1x-bJX"
      }
    },
    {
      "cell_type": "markdown",
      "source": [
        "### Generator Network"
      ],
      "metadata": {
        "id": "YZuLc4qY-jZV"
      }
    },
    {
      "cell_type": "code",
      "source": [],
      "metadata": {
        "id": "JZ3wunJO-S6o"
      },
      "execution_count": null,
      "outputs": []
    },
    {
      "cell_type": "markdown",
      "source": [
        "### Discriminator Network"
      ],
      "metadata": {
        "id": "Iixk8nwJ-ts7"
      }
    },
    {
      "cell_type": "code",
      "source": [],
      "metadata": {
        "id": "qo-V1gVj-yxW"
      },
      "execution_count": null,
      "outputs": []
    },
    {
      "cell_type": "markdown",
      "source": [
        "### Losses"
      ],
      "metadata": {
        "id": "i4imuAt6-6Nz"
      }
    },
    {
      "cell_type": "code",
      "source": [],
      "metadata": {
        "id": "QoTDluCq_Cn4"
      },
      "execution_count": null,
      "outputs": []
    },
    {
      "cell_type": "markdown",
      "source": [
        "### Optimizers"
      ],
      "metadata": {
        "id": "OOjIob3r_DuM"
      }
    },
    {
      "cell_type": "code",
      "source": [],
      "metadata": {
        "id": "UTXvLCgz_Iy_"
      },
      "execution_count": null,
      "outputs": []
    }
  ]
}