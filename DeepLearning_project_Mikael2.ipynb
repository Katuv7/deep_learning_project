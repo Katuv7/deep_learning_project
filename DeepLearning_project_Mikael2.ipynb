{
  "nbformat": 4,
  "nbformat_minor": 0,
  "metadata": {
    "colab": {
      "provenance": [],
      "gpuType": "T4",
      "authorship_tag": "ABX9TyOP5DuIBsHq0UN+KaUhbxCV",
      "include_colab_link": true
    },
    "kernelspec": {
      "name": "python3",
      "display_name": "Python 3"
    },
    "language_info": {
      "name": "python"
    },
    "accelerator": "GPU"
  },
  "cells": [
    {
      "cell_type": "markdown",
      "metadata": {
        "id": "view-in-github",
        "colab_type": "text"
      },
      "source": [
        "<a href=\"https://colab.research.google.com/github/Katuv7/deep_learning_project/blob/main/DeepLearning_project_Mikael2.ipynb\" target=\"_parent\"><img src=\"https://colab.research.google.com/assets/colab-badge.svg\" alt=\"Open In Colab\"/></a>"
      ]
    },
    {
      "cell_type": "markdown",
      "source": [
        "# Project of the MNIST Data Using GAN Methods"
      ],
      "metadata": {
        "id": "q4TmJ2lEoq8c"
      }
    },
    {
      "cell_type": "markdown",
      "source": [
        "## Load the useful packages"
      ],
      "metadata": {
        "id": "ILJikJ4KobgF"
      }
    },
    {
      "cell_type": "code",
      "execution_count": null,
      "metadata": {
        "id": "eW08Am7Kj4Rn"
      },
      "outputs": [],
      "source": [
        "import scipy\n",
        "import numpy as np # manipulate N-dimensional arrays\n",
        "import pandas as pd # data frame\n",
        "import matplotlib.pyplot as plt # data plotting\n",
        "import matplotlib.gridspec as gridspec\n",
        "import seaborn # advanced data plotting\n",
        "from sklearn import preprocessing # basic ML models\n",
        "# import scipy # scientific computing library\n",
        "from tqdm import tqdm #progress bar\n",
        "#import torch\n",
        "import time\n",
        "import os\n",
        "import pickle\n",
        "import tensorflow as tf\n",
        "#from tensorflow.keras import layers, models\n",
        "\n",
        "# example of semi-supervised gan for mnist\n",
        "from numpy import expand_dims, zeros, ones, asarray\n",
        "from numpy.random import randn, randint\n",
        "\n",
        "from keras.datasets.mnist import load_data\n",
        "from keras.optimizers import Adam\n",
        "from keras.models import Model, Sequential\n",
        "\n",
        "from keras.layers import Input, Dense, Reshape, Flatten, Conv2D, Conv2DTranspose\n",
        "from keras.layers import LeakyReLU, Dropout, Lambda, Activation\n",
        "\n",
        "#from keras.utils import to_categorical\n",
        "\n",
        "from matplotlib import pyplot as plt\n",
        "from keras import backend as K\n",
        "import numpy as np"
      ]
    },
    {
      "cell_type": "code",
      "source": [
        "device_list=tf.test.gpu_device_name()"
      ],
      "metadata": {
        "id": "fOhqKZe2MqCC"
      },
      "execution_count": null,
      "outputs": []
    },
    {
      "cell_type": "code",
      "source": [
        "device_list"
      ],
      "metadata": {
        "colab": {
          "base_uri": "https://localhost:8080/",
          "height": 36
        },
        "id": "M1TwhgeWNo4q",
        "outputId": "fc4e8b0a-1b9a-4d96-a9ad-5e2d41f87291"
      },
      "execution_count": null,
      "outputs": [
        {
          "output_type": "execute_result",
          "data": {
            "text/plain": [
              "'/device:GPU:0'"
            ],
            "application/vnd.google.colaboratory.intrinsic+json": {
              "type": "string"
            }
          },
          "metadata": {},
          "execution_count": 4
        }
      ]
    },
    {
      "cell_type": "code",
      "source": [
        "if device_list!='/device:GPU:0':\n",
        "  raise SystemError('GPU device not found')\n",
        "print('Found GPU at:()'.format(device_list))"
      ],
      "metadata": {
        "colab": {
          "base_uri": "https://localhost:8080/"
        },
        "id": "H4j0m8C4M0E1",
        "outputId": "1f881e55-5db4-4701-e232-8ff2bdc3c791"
      },
      "execution_count": null,
      "outputs": [
        {
          "output_type": "stream",
          "name": "stdout",
          "text": [
            "Found GPU at:()\n"
          ]
        }
      ]
    },
    {
      "cell_type": "code",
      "source": [
        "tf.test.is_gpu_available()"
      ],
      "metadata": {
        "colab": {
          "base_uri": "https://localhost:8080/"
        },
        "id": "yDc4pXwyOl-G",
        "outputId": "2cd2bfc1-5c6d-449a-ec77-d73e537f2eb0"
      },
      "execution_count": null,
      "outputs": [
        {
          "output_type": "stream",
          "name": "stderr",
          "text": [
            "WARNING:tensorflow:From <ipython-input-6-17bb7203622b>:1: is_gpu_available (from tensorflow.python.framework.test_util) is deprecated and will be removed in a future version.\n",
            "Instructions for updating:\n",
            "Use `tf.config.list_physical_devices('GPU')` instead.\n"
          ]
        },
        {
          "output_type": "execute_result",
          "data": {
            "text/plain": [
              "True"
            ]
          },
          "metadata": {},
          "execution_count": 6
        }
      ]
    },
    {
      "cell_type": "markdown",
      "source": [
        "## Loading the data"
      ],
      "metadata": {
        "id": "FIndvCpx9uCD"
      }
    },
    {
      "cell_type": "code",
      "source": [
        "#from keras.datasets import mnist\n",
        "#from keras import backend as K"
      ],
      "metadata": {
        "id": "KY_9Pntt91cs"
      },
      "execution_count": null,
      "outputs": []
    },
    {
      "cell_type": "code",
      "source": [
        "#K.set_image_data_format('channels_last')\n",
        "#(x_train_original, y_train_original), (x_test, y_test) = mnist.load_data(path=\"mnist.npz\")\n",
        "#print('x_train shape:', x_train_original.shape)\n",
        "#print(x_train_original.shape[0], 'train samples')\n",
        "#print(y_train_original.shape, 'train samples')\n",
        "#print(x_test.shape[0], 'test samples')"
      ],
      "metadata": {
        "colab": {
          "base_uri": "https://localhost:8080/"
        },
        "id": "0txV7vmPRHVX",
        "outputId": "8dd1e3ce-ec0d-4932-9d43-56d411091864"
      },
      "execution_count": null,
      "outputs": [
        {
          "output_type": "stream",
          "name": "stdout",
          "text": [
            "x_train shape: (60000, 28, 28)\n",
            "60000 train samples\n",
            "(60000,) train samples\n",
            "10000 test samples\n"
          ]
        }
      ]
    },
    {
      "cell_type": "code",
      "source": [
        "# Check number of classes\n",
        "#num_classes = y_train_original.max() +1\n",
        "#num_classes"
      ],
      "metadata": {
        "id": "BlYTCEz-T9J-"
      },
      "execution_count": 11,
      "outputs": []
    },
    {
      "cell_type": "code",
      "source": [
        "#plt.imshow(x_test[1])"
      ],
      "metadata": {
        "id": "-Fjs8L19UAGc"
      },
      "execution_count": 10,
      "outputs": []
    },
    {
      "cell_type": "code",
      "source": [
        "# Check the class labels\n",
        "#y_train_original"
      ],
      "metadata": {
        "id": "EsErYRtvUiSL"
      },
      "execution_count": 9,
      "outputs": []
    },
    {
      "cell_type": "code",
      "source": [
        "#LABELS = {\n",
        "    #0 : \"Zero\",\n",
        "    #1 : \"One\",\n",
        "    #2 : \"Two\",\n",
        "    #3 : \"Three\",\n",
        "    #4 : \"Four\",\n",
        "    #5 : \"Five\",\n",
        "    #6 : \"Six\",\n",
        "    #7 : \"Seven\",\n",
        "    #8 : \"Eight\",\n",
        "    #9 : \"Nine\"\n",
        "}"
      ],
      "metadata": {
        "id": "ADB6I7XIU1hT"
      },
      "execution_count": null,
      "outputs": []
    },
    {
      "cell_type": "code",
      "source": [],
      "metadata": {
        "id": "Q2LKCIM1VE6S"
      },
      "execution_count": null,
      "outputs": []
    },
    {
      "cell_type": "markdown",
      "source": [
        "## Preprocessing"
      ],
      "metadata": {
        "id": "DdpITYHL929O"
      }
    },
    {
      "cell_type": "markdown",
      "source": [
        "### Spliting the data"
      ],
      "metadata": {
        "id": "9Uhme5jeVOdW"
      }
    },
    {
      "cell_type": "code",
      "source": [
        "#from sklearn.model_selection import train_test_split"
      ],
      "metadata": {
        "id": "a6PktbU2-AEo"
      },
      "execution_count": null,
      "outputs": []
    },
    {
      "cell_type": "code",
      "source": [
        "#x_train, x_val, y_train, y_val = train_test_split(x_train_original, y_train_original, test_size=10000, random_state=42, shuffle= True, stratify=y_train_original)"
      ],
      "metadata": {
        "id": "_zxcEMupVcXr"
      },
      "execution_count": null,
      "outputs": []
    },
    {
      "cell_type": "code",
      "source": [
        "#x_train.shape"
      ],
      "metadata": {
        "id": "BnfXMMOiVqSY"
      },
      "execution_count": 8,
      "outputs": []
    },
    {
      "cell_type": "code",
      "source": [
        "#x_val.shape"
      ],
      "metadata": {
        "id": "ti6_--gsVvpL"
      },
      "execution_count": 7,
      "outputs": []
    },
    {
      "cell_type": "code",
      "source": [
        "#x_test.shape"
      ],
      "metadata": {
        "id": "Zi3MqWR0V4ig"
      },
      "execution_count": 6,
      "outputs": []
    },
    {
      "cell_type": "code",
      "source": [
        "# Check number of samples inside each class\n",
        "#from collections import Counter"
      ],
      "metadata": {
        "id": "r6ta7FEMWBDB"
      },
      "execution_count": null,
      "outputs": []
    },
    {
      "cell_type": "code",
      "source": [
        "#Counter(list(y_train.reshape(-1)))"
      ],
      "metadata": {
        "id": "ppvaPzjAWC3l"
      },
      "execution_count": 5,
      "outputs": []
    },
    {
      "cell_type": "code",
      "source": [
        "#Counter(list(y_val.reshape(-1)))"
      ],
      "metadata": {
        "id": "alR1k90iWMMm"
      },
      "execution_count": 4,
      "outputs": []
    },
    {
      "cell_type": "code",
      "source": [
        "#Counter(list(y_test.reshape(-1)))"
      ],
      "metadata": {
        "id": "TdD_L9nRWUsr"
      },
      "execution_count": 3,
      "outputs": []
    },
    {
      "cell_type": "markdown",
      "source": [
        "### Convert class vectors into binary class matrices"
      ],
      "metadata": {
        "id": "5mb_1oW7WtIF"
      }
    },
    {
      "cell_type": "code",
      "source": [
        "#from tensorflow.keras.utils import to_categorical"
      ],
      "metadata": {
        "id": "IHXn8RjoW82G"
      },
      "execution_count": null,
      "outputs": []
    },
    {
      "cell_type": "code",
      "source": [
        "#y_train_original = to_categorical(y_train_original, num_classes)\n",
        "#y_test = to_categorical(y_test, num_classes)\n",
        "#y_train = to_categorical(y_train, num_classes)\n",
        "#y_val = to_categorical(y_val, num_classes)"
      ],
      "metadata": {
        "id": "ZwwkjRbbXDfn"
      },
      "execution_count": null,
      "outputs": []
    },
    {
      "cell_type": "code",
      "source": [
        "# New shape of the labels\n",
        "#y_train_original.shape"
      ],
      "metadata": {
        "id": "jpGCBQk7XYUu"
      },
      "execution_count": 2,
      "outputs": []
    },
    {
      "cell_type": "markdown",
      "source": [
        "### Normalize the data"
      ],
      "metadata": {
        "id": "c6dMwjB9XtVM"
      }
    },
    {
      "cell_type": "code",
      "source": [
        "#x_train_original = x_train_original.astype('float32')\n",
        "#x_test = x_test.astype('float32')\n",
        "#x_train = x_train.astype('float32')\n",
        "#x_val = x_val.astype('float32')\n",
        "\n",
        "#x_train_original /= 255\n",
        "#x_test /= 255\n",
        "#x_train /= 255\n",
        "#x_val /= 255"
      ],
      "metadata": {
        "id": "rVo6JMHtXc_V"
      },
      "execution_count": null,
      "outputs": []
    },
    {
      "cell_type": "code",
      "source": [
        "# Check new minimum and maximum values\n",
        "#x_train.max(), x_train.min()"
      ],
      "metadata": {
        "id": "dPN1a3FIY_W3"
      },
      "execution_count": 1,
      "outputs": []
    },
    {
      "cell_type": "markdown",
      "source": [
        "# GAN"
      ],
      "metadata": {
        "id": "9-Ac1gpI-Ovg"
      }
    },
    {
      "cell_type": "markdown",
      "source": [
        "## Configuration of two networks\n",
        "\n",
        "### This is not the same with the classical GAN, the discriminator receive from two part(Dataset, generator for unlabeled data) and the discriminator has two parts also: supervised part to classify and unsupervised part to discriminate between dataset and the fake image from generator and return to generator to minimise the error, otherwise if it's true, directed to supervised discriminator.  "
      ],
      "metadata": {
        "id": "9k42Bb1x-bJX"
      }
    },
    {
      "cell_type": "code",
      "source": [
        "# define the standalone generator model\n",
        "def define_generator(latent_dim):\n",
        "\n",
        "\tin_lat = Input(shape=(latent_dim,))\n",
        "\t#Start with enough dense nodes to be reshaped and ConvTransposed to 28x28x1\n",
        "\tn_nodes = 256 * 7 * 7\n",
        "\tX = Dense(n_nodes)(in_lat)\n",
        "\tX = LeakyReLU(alpha=0.2)(X)\n",
        "\tX = Reshape((7, 7, 256))(X)\n",
        "\n",
        "\tX = Conv2DTranspose(128, (3,3), strides=(2,2), padding='same')(X) #14x14x128\n",
        "\tX = LeakyReLU(alpha=0.2)(X)\n",
        "\n",
        "\tX = Conv2DTranspose(64, (3,3), strides=(1,1), padding='same')(X) #14x14x64\n",
        "\tX = LeakyReLU(alpha=0.2)(X)\n",
        "\t# output\n",
        "\tout_layer = Conv2DTranspose(1, (3,3), strides=(2,2), activation='tanh',\n",
        "                             padding='same')(X) #28x28x1\n",
        "\t# define model\n",
        "\tmodel = Model(in_lat, out_layer)\n",
        "\treturn model"
      ],
      "metadata": {
        "id": "JZ3wunJO-S6o"
      },
      "execution_count": null,
      "outputs": []
    },
    {
      "cell_type": "code",
      "source": [
        "def define_discriminator(in_shape=(28,28,1), n_classes=10):\n",
        "    in_image = Input(shape=in_shape)\n",
        "    X = Conv2D(32, (3,3), strides=(2,2), padding='same')(in_image)\n",
        "    X = LeakyReLU(alpha=0.2)(X)\n",
        "\n",
        "    X = Conv2D(64, (3,3), strides=(2,2), padding='same')(X)\n",
        "    X = LeakyReLU(alpha=0.2)(X)\n",
        "\n",
        "    X = Conv2D(128, (3,3), strides=(2,2), padding='same')(X)\n",
        "    X = LeakyReLU(alpha=0.2)(X)\n",
        "\n",
        "    X = Flatten()(X)\n",
        "    X = Dropout(0.4)(X) #Consider adding more dropout layers to minimize overfitting - remember we work with limited labeled data.\n",
        "    X = Dense(n_classes)(X)\n",
        "\n",
        "    model = Model(inputs=in_image, outputs=X)\n",
        "\n",
        "    return model"
      ],
      "metadata": {
        "id": "xvu31C27rcuk"
      },
      "execution_count": null,
      "outputs": []
    },
    {
      "cell_type": "code",
      "source": [
        "#Define the supervised discriminator.\n",
        "#Multiclass classification, so we will use softmax activation.\n",
        "#To avoid converting our labels to categorical, we will work with sparse categorical crossentropy loss.\n",
        "def define_sup_discriminator(disc):\n",
        "    model=Sequential()\n",
        "    model.add(disc)\n",
        "    model.add(Activation('softmax'))\n",
        "    #Let us use sparse categorical loss so we dont have to convert our Y to categorical\n",
        "    model.compile(optimizer=Adam(lr=0.0002, beta_1=0.5),\n",
        "                  loss=\"sparse_categorical_crossentropy\",metrics=['accuracy'])\n",
        "    return model"
      ],
      "metadata": {
        "id": "LdjIRXzDrvyz"
      },
      "execution_count": null,
      "outputs": []
    },
    {
      "cell_type": "code",
      "source": [
        "#Define the unsupervised discriminator\n",
        "#Takes the output of the supervised, just before the softmax activation.\n",
        "#Then, adds a layer with calculation of sum of exponential outputs. (defined below as custom_activation)\n",
        "# Reference: https://arxiv.org/abs/1606.03498\n",
        "\n",
        "#This custom activation layer gives a value close to 0 for smaller activations\n",
        "#in the prior discriminator layer. It gives values close to 1 for large activations.\n",
        "#This way it gives low activation for fake images. No need for sigmoid anymore.\n",
        "\n",
        "# custom activation function for the unsupervised discriminator\n",
        "#D(x) = Z(x) / (Z(x) + 1) where Z(x) = sum(exp(l(x))). l(x) is the output from sup discr. prior to softmax\n",
        "def custom_activation(x):\n",
        "    Z_x = K.sum(K.exp(x), axis=-1, keepdims=True)\n",
        "    D_x = Z_x /(Z_x+1)\n",
        "\n",
        "    return D_x"
      ],
      "metadata": {
        "id": "1UAIW7O6r4rf"
      },
      "execution_count": null,
      "outputs": []
    },
    {
      "cell_type": "code",
      "source": [
        "def define_unsup_discriminator(disc):\n",
        "    model=Sequential()\n",
        "    model.add(disc)\n",
        "    model.add(Lambda(custom_activation))\n",
        "    model.compile(loss='binary_crossentropy', optimizer=Adam(lr=0.0002, beta_1=0.5))\n",
        "    return model\n",
        "\n",
        "\n",
        "# disc=define_discriminator()\n",
        "# disc_sup=define_sup_discriminator(disc)\n",
        "# disc_unsup=define_unsup_discriminator(disc)\n",
        "# print(disc_unsup.summary())\n"
      ],
      "metadata": {
        "id": "pbJYeKFosflE"
      },
      "execution_count": null,
      "outputs": []
    },
    {
      "cell_type": "code",
      "source": [
        "# define the combined generator and discriminator model, for updating the generator\n",
        "def define_gan(gen_model, disc_unsup):\n",
        "\n",
        "\tdisc_unsup.trainable = False # make unsup. discriminator not trainable\n",
        "\tgan_output = disc_unsup(gen_model.output) #Gen. output is the input to disc.\n",
        "\tmodel = Model(gen_model.input, gan_output)\n",
        "\tmodel.compile(loss='binary_crossentropy', optimizer=Adam(lr=0.0002, beta_1=0.5))\n",
        "\treturn model\n",
        "\n",
        "# gan_model = define_gan(gen_model, disc_unsup)\n",
        "# print(gan_model.summary()"
      ],
      "metadata": {
        "id": "nHBrVOrssq9b"
      },
      "execution_count": null,
      "outputs": []
    },
    {
      "cell_type": "code",
      "source": [
        "# load the images\n",
        "def load_real_samples(n_classes=10):\n",
        "    (trainX, trainy), (_, _) = load_data()\n",
        "    X = expand_dims(trainX, axis=-1)\n",
        "    X = X.astype('float32')\n",
        "    X = (X - 127.5) / 127.5  # scale from [0,255] to [-1,1] as we will be using tanh activation.\n",
        "    print(X.shape, trainy.shape)\n",
        "    return [X, trainy]\n",
        "\n",
        "#data = load_real_samples()"
      ],
      "metadata": {
        "id": "5pYxcevdtRBN"
      },
      "execution_count": null,
      "outputs": []
    },
    {
      "cell_type": "code",
      "source": [
        "#select subset of the dataset for supervised training\n",
        "#Let us pick only 100 samples to be used in supervised training.\n",
        "#Also, we need to ensure we pick 10 samples per class to ensure a good balance\n",
        "#of data between classes.\n",
        "def select_supervised_samples(dataset, n_samples=100, n_classes=10):\n",
        " \tX, y = dataset\n",
        " \tX_list, y_list = list(), list()\n",
        " \tn_per_class = int(n_samples / n_classes) #Number of amples per class.\n",
        " \tfor i in range(n_classes):\n",
        "         X_with_class = X[y == i] # get all images for this class\n",
        "         ix = randint(0, len(X_with_class), n_per_class) # choose random images for each class\n",
        "         [X_list.append(X_with_class[j]) for j in ix] # add to list\n",
        "         [y_list.append(i) for j in ix]\n",
        " \treturn asarray(X_list), asarray(y_list) #Returns a list of 2 numpy arrays corresponding to X and Y\n"
      ],
      "metadata": {
        "id": "vRvopt78tmwh"
      },
      "execution_count": null,
      "outputs": []
    },
    {
      "cell_type": "code",
      "source": [
        "# Pick real samples from the dataset.\n",
        "#Return both images and corresponding labels in addition to y=1 indicating that the images are real.\n",
        "#Remember that we will not use the labels for unsupervised, only used for supervised.\n",
        "def generate_real_samples(dataset, n_samples):\n",
        "\n",
        "\timages, labels = dataset\n",
        "\tix = randint(0, images.shape[0], n_samples)\n",
        "\tX, labels = images[ix], labels[ix] #Select random images and corresponding labels\n",
        "\ty = ones((n_samples, 1)) #Label all images as 1 as these are real images. (for the discriminator training)\n",
        "\treturn [X, labels], y"
      ],
      "metadata": {
        "id": "8vICm2dutwWs"
      },
      "execution_count": null,
      "outputs": []
    },
    {
      "cell_type": "code",
      "source": [
        "# generate latent points, to be used as inputs to the generator.\n",
        "def generate_latent_points(latent_dim, n_samples):\n",
        "\tz_input = randn(latent_dim * n_samples)\n",
        "\tz_input = z_input.reshape(n_samples, latent_dim) # reshape for input to the network\n",
        "\treturn z_input"
      ],
      "metadata": {
        "id": "SqX0hbpAt8-a"
      },
      "execution_count": null,
      "outputs": []
    },
    {
      "cell_type": "code",
      "source": [
        "# Generate fake images using the generator and above latent points as input to it.\n",
        "#We do not care about labeles so the generator will not know anything about the labels.\n",
        "def generate_fake_samples(generator, latent_dim, n_samples):\n",
        "\n",
        "\tz_input = generate_latent_points(latent_dim, n_samples)\n",
        "\tfake_images = generator.predict(z_input)\n",
        "\t# create class labels\n",
        "\ty = zeros((n_samples, 1)) #Label all images as 0 as these are fake images. (for the discriminator training)\n",
        "\treturn fake_images, y"
      ],
      "metadata": {
        "id": "rmDNZUETuCHa"
      },
      "execution_count": null,
      "outputs": []
    },
    {
      "cell_type": "code",
      "source": [
        "# report accuracy and save plots & the model periodically.\n",
        "def summarize_performance(step, gen_model, disc_sup, latent_dim, dataset, n_samples=100):\n",
        "\t# Generate fake images\n",
        "\tX, _ = generate_fake_samples(gen_model, latent_dim, n_samples)\n",
        "\n",
        "\tX = (X + 1) / 2.0 # scale to [0,1] for plotting\n",
        "\t# plot images\n",
        "\tfor i in range(100):\n",
        "\t\tplt.subplot(10, 10, 1 + i)\n",
        "\t\tplt.axis('off')\n",
        "\t\tplt.imshow(X[i, :, :, 0], cmap='gray_r')\n",
        "\t# save plot to drive\n",
        "\tfilename1 = 'generated_plot_%04d.png' % (step+1)\n",
        "\tplt.savefig(filename1)\n",
        "\tplt.close()\n",
        "\n",
        "\t# evaluate the discriminator\n",
        "\tX, y = dataset\n",
        "\t_, acc = disc_sup.evaluate(X, y, verbose=0)\n",
        "\tprint('Discriminator Accuracy: %.3f%%' % (acc * 100))\n",
        "\t# save the generator model\n",
        "\tfilename2 = 'gen_model_%04d.h5' % (step+1)\n",
        "\tgen_model.save(filename2)\n",
        "\t# save the Discriminator (classifier) model\n",
        "\tfilename3 = 'disc_sup_%04d.h5' % (step+1)\n",
        "\tdisc_sup.save(filename3)\n",
        "\tprint('>Saved: %s, %s, and %s' % (filename1, filename2, filename3))\n"
      ],
      "metadata": {
        "id": "ArSPb1rHuPYE"
      },
      "execution_count": null,
      "outputs": []
    },
    {
      "cell_type": "code",
      "source": [
        "# train the generator and discriminator\n",
        "def train(gen_model, disc_unsup, disc_sup, gan_model, dataset, latent_dim, n_epochs=20, n_batch=100):\n",
        "\n",
        "    # select supervised dataset for training.\n",
        "    #Remember that we are not using all 60k images, just a subset (100 images, 10 per class. )\n",
        "\tX_sup, y_sup = select_supervised_samples(dataset)\n",
        "\t#print(X_sup.shape, y_sup.shape)\n",
        "\n",
        "\tbat_per_epo = int(dataset[0].shape[0] / n_batch)\n",
        "\t# iterations\n",
        "\tn_steps = bat_per_epo * n_epochs\n",
        "\n",
        "\thalf_batch = int(n_batch / 2)\n",
        "\tprint('n_epochs=%d, n_batch=%d, 1/2=%d, b/e=%d, steps=%d' % (n_epochs,\n",
        "                                                              n_batch, half_batch,\n",
        "                                                              bat_per_epo, n_steps))\n",
        "\n",
        "    #  enumerate epochs\n",
        "\tfor i in range(n_steps):\n",
        "\t\t# update supervised discriminator (disc_sup) on real samples.\n",
        "        #Remember that we use real labels to train as this is supervised.\n",
        "        #This is the discriminator we really care about at the end.\n",
        "        #Also, this is a multiclass classifier, not binary. Therefore, our y values\n",
        "        #will be the real class labels for MNIST. (NOT 1 or 0 indicating real or fake.)\n",
        "\t\t[Xsup_real, ysup_real], _ = generate_real_samples([X_sup, y_sup], half_batch)\n",
        "\t\tsup_loss, sup_acc = disc_sup.train_on_batch(Xsup_real, ysup_real)\n",
        "\n",
        "\t\t# update unsupervised discriminator (disc_unsup) - just like in our regular GAN.\n",
        "        #Remember that we will not train on labels as this is unsupervised, just binary as in our regular GAN.\n",
        "        #The y_real below indicates 1s telling the discriminator that these images are real.\n",
        "        #do not confuse this with class labels.\n",
        "        #We will discard this discriminator at the end.\n",
        "\t\t[X_real, _], y_real = generate_real_samples(dataset, half_batch) #\n",
        "\t\td_loss_real = disc_unsup.train_on_batch(X_real, y_real)\n",
        "        #Now train on fake.\n",
        "\t\tX_fake, y_fake = generate_fake_samples(gen_model, latent_dim, half_batch)\n",
        "\t\td_loss_fake = disc_unsup.train_on_batch(X_fake, y_fake)\n",
        "\n",
        "\t\t# update generator (gen) - like we do in regular GAN.\n",
        "        #We can discard this model at the end as our primary goal is to train a multiclass classifier (sup. disc.)\n",
        "\t\tX_gan, y_gan = generate_latent_points(latent_dim, n_batch), ones((n_batch, 1))\n",
        "\t\tgan_loss = gan_model.train_on_batch(X_gan, y_gan)\n",
        "\n",
        "\t\t# summarize loss on this batch\n",
        "\t\tprint('>%d, c[%.3f,%.0f], d[%.3f,%.3f], g[%.3f]' % (i+1, sup_loss, sup_acc*100, d_loss_real, d_loss_fake, gan_loss))\n",
        "\t\t# evaluate the model performance periodically\n",
        "\t\tif (i+1) % (bat_per_epo * 1) == 0:\n",
        "\t\t\tsummarize_performance(i, gen_model, disc_sup, latent_dim, dataset)"
      ],
      "metadata": {
        "id": "zi3B4YXlwmMr"
      },
      "execution_count": null,
      "outputs": []
    },
    {
      "cell_type": "code",
      "source": [
        "#################################################################################\n",
        "# TRAIN\n",
        "#################################\n",
        "\n",
        "#latent_dim = 100\n",
        "\n",
        "# create the discriminator models\n",
        "#disc=define_discriminator() #Bare discriminator model...\n",
        "#disc_sup=define_sup_discriminator(disc) #Supervised discriminator model\n",
        "#disc_unsup=define_unsup_discriminator(disc) #Unsupervised discriminator model.\n",
        "\n",
        "#gen_model = define_generator(latent_dim) #Generator\n",
        "#gan_model = define_gan(gen_model, disc_unsup) #GAN\n",
        "#dataset = load_real_samples() #Define the dataset by loading real samples. (This will be a list of 2 numpy arrays, X and y)\n",
        "\n",
        "# train the model\n",
        "# NOTE: 1 epoch = 600 steps in this example.\n",
        "#train(gen_model, disc_unsup, disc_sup, gan_model, dataset, latent_dim, n_epochs=10, n_batch=100)\n"
      ],
      "metadata": {
        "id": "h9-BNiNcwuJK"
      },
      "execution_count": 1,
      "outputs": []
    },
    {
      "cell_type": "code",
      "source": [
        "#############################################################################\n",
        "#EVALUATE THE SUPERVISED DISCRIMINATOR ON TEST DATA\n",
        "# This is the model we want as a classifier.\n",
        "##################################################################\n",
        "from keras.models import load_model\n",
        "# load the model\n",
        "disc_sup_trained_model = load_model('disc_sup_6000.h5')\n",
        "\n",
        "# load the dataset\n",
        "(_, _), (testX, testy) = load_data()\n",
        "\n",
        "# expand to 3d, e.g. add channels\n",
        "testX = expand_dims(testX, axis=-1)\n",
        "\n",
        "# convert from ints to floats\n",
        "testX = testX.astype('float32')\n",
        "\n",
        "# scale from [0,255] to [-1,1]\n",
        "testX = (testX - 127.5) / 127.5\n",
        "\n",
        "# evaluate the model\n",
        "_, test_acc = disc_sup_trained_model.evaluate(testX, testy, verbose=0)\n",
        "print('Test Accuracy: %.3f%%' % (test_acc * 100))\n",
        "\n",
        "# Predicting the Test set results\n",
        "y_pred_test = disc_sup_trained_model.predict(testX)\n",
        "prediction_test = np.argmax(y_pred_test, axis=1)"
      ],
      "metadata": {
        "colab": {
          "base_uri": "https://localhost:8080/"
        },
        "id": "pNZJiNI50VPm",
        "outputId": "5878939a-7803-4986-a25b-340e7b8c5e8b"
      },
      "execution_count": null,
      "outputs": [
        {
          "output_type": "stream",
          "name": "stdout",
          "text": [
            "Test Accuracy: 86.860%\n",
            "313/313 [==============================] - 1s 2ms/step\n"
          ]
        }
      ]
    },
    {
      "cell_type": "code",
      "source": [
        "# Confusion Matrix\n",
        "from sklearn.metrics import confusion_matrix\n",
        "import seaborn as sns\n",
        "cm = confusion_matrix(testy, prediction_test)\n",
        "sns.heatmap(cm, annot=True)"
      ],
      "metadata": {
        "colab": {
          "base_uri": "https://localhost:8080/",
          "height": 447
        },
        "id": "3N_JhV0G0Y0D",
        "outputId": "2b2eabc0-e0d4-4fd5-fc87-02d52d2be265"
      },
      "execution_count": null,
      "outputs": [
        {
          "output_type": "execute_result",
          "data": {
            "text/plain": [
              "<Axes: >"
            ]
          },
          "metadata": {},
          "execution_count": 17
        },
        {
          "output_type": "display_data",
          "data": {
            "text/plain": [
              "<Figure size 640x480 with 2 Axes>"
            ],
            "image/png": "[encoded data removed]"
          },
          "metadata": {}
        }
      ]
    },
    {
      "cell_type": "code",
      "source": [
        "#############################################################################\n",
        "#PREDICT / GENERATE IMAGES using the generator, just for fun.\n",
        "##################################################################\n",
        "\n",
        "# Plot generated images\n",
        "def show_plot(examples, n):\n",
        "\tfor i in range(n * n):\n",
        "\t\tplt.subplot(n, n, 1 + i)\n",
        "\t\tplt.axis('off')\n",
        "\t\tplt.imshow(examples[i, :, :, :], cmap='gray')\n",
        "\tplt.show()\n",
        "\n",
        "# load model\n",
        "gen_trained_model = load_model('gen_model_6000.h5') #Model trained for 100 epochs\n",
        "# generate images\n",
        "latent_points = generate_latent_points(100, 25)  #Latent dim and n_samples\n",
        "# generate images\n",
        "X = gen_trained_model.predict(latent_points)\n",
        "# scale from [-1,1] to [0,1]\n",
        "X = (X + 1) / 2.0\n",
        "\n",
        "X = (X*255).astype(np.uint8)\n",
        "\n",
        "# plot the result\n",
        "show_plot(X, 5)\n"
      ],
      "metadata": {
        "colab": {
          "base_uri": "https://localhost:8080/",
          "height": 441
        },
        "id": "vYYE8z8m0fvx",
        "outputId": "137c9bae-3265-4432-ff24-e4ab9c8281ef"
      },
      "execution_count": null,
      "outputs": [
        {
          "output_type": "stream",
          "name": "stderr",
          "text": [
            "WARNING:tensorflow:No training configuration found in the save file, so the model was *not* compiled. Compile it manually.\n"
          ]
        },
        {
          "output_type": "stream",
          "name": "stdout",
          "text": [
            "1/1 [==============================] - 0s 95ms/step\n"
          ]
        },
        {
          "output_type": "display_data",
          "data": {
            "text/plain": [
              "<Figure size 640x480 with 25 Axes>"
            ],
            "image/png": "[encoded data removed]"
          },
          "metadata": {}
        }
      ]
    }
  ]
}